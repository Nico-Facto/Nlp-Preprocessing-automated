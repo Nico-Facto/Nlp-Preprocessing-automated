{
 "cells": [
  {
   "cell_type": "code",
   "execution_count": 1,
   "metadata": {},
   "outputs": [],
   "source": [
    "## Basic's lib's are auto imported by my setting's  (pandas,numpy, matplot, seaborn)"
   ]
  },
  {
   "cell_type": "code",
   "execution_count": 2,
   "metadata": {},
   "outputs": [],
   "source": [
    "from ncustpip import naturalCleanTxt as nct # Our custom python modules\n",
    "from ncustpip import naturalSparc as nsp # Our custom python modules \n",
    "\n",
    "from sklearn.compose import ColumnTransformer\n",
    "from sklearn.pipeline import Pipeline"
   ]
  },
  {
   "cell_type": "markdown",
   "metadata": {},
   "source": [
    "# Part 1 - Easly cleaned Text sources"
   ]
  },
  {
   "cell_type": "code",
   "execution_count": 3,
   "metadata": {},
   "outputs": [],
   "source": [
    "df = pd.read_csv(\"bt_articlev2.csv\")"
   ]
  },
  {
   "cell_type": "code",
   "execution_count": 4,
   "metadata": {},
   "outputs": [
    {
     "data": {
      "text/html": [
       "<div>\n",
       "<style scoped>\n",
       "    .dataframe tbody tr th:only-of-type {\n",
       "        vertical-align: middle;\n",
       "    }\n",
       "\n",
       "    .dataframe tbody tr th {\n",
       "        vertical-align: top;\n",
       "    }\n",
       "\n",
       "    .dataframe thead th {\n",
       "        text-align: right;\n",
       "    }\n",
       "</style>\n",
       "<table border=\"1\" class=\"dataframe\">\n",
       "  <thead>\n",
       "    <tr style=\"text-align: right;\">\n",
       "      <th></th>\n",
       "      <th>meta</th>\n",
       "      <th>title</th>\n",
       "      <th>company_concerned</th>\n",
       "      <th>company_country_concerned</th>\n",
       "      <th>dodgy_deals</th>\n",
       "      <th>dodgy_sector</th>\n",
       "      <th>dodgy_country</th>\n",
       "      <th>article</th>\n",
       "    </tr>\n",
       "  </thead>\n",
       "  <tbody>\n",
       "    <tr>\n",
       "      <th>0</th>\n",
       "      <td>\\nBy: Greenpeace\\n2020-01-21\\n</td>\n",
       "      <td>Davos financial players pump US$1.4 trillion i...</td>\n",
       "      <td>Bank of America</td>\n",
       "      <td>United States</td>\n",
       "      <td>NaN</td>\n",
       "      <td>NaN</td>\n",
       "      <td>NaN</td>\n",
       "      <td>\\nJanuary 21 2020, Davos, Switzerland\\n\\n\\nBan...</td>\n",
       "    </tr>\n",
       "    <tr>\n",
       "      <th>1</th>\n",
       "      <td>\\nBy: Milieudefensie &amp; OECDWatch\\n2020-01-20\\n...</td>\n",
       "      <td>Friends of the Earth groups complaint against ...</td>\n",
       "      <td>ING</td>\n",
       "      <td>Netherlands</td>\n",
       "      <td>Socfin</td>\n",
       "      <td>agriculture - non-food crops | agriculture - p...</td>\n",
       "      <td>Luxembourg</td>\n",
       "      <td>\\nAMSTERDAM, 20 January 2020 - The Dutch Natio...</td>\n",
       "    </tr>\n",
       "    <tr>\n",
       "      <th>2</th>\n",
       "      <td>\\nBy: Rainforest Action Network\\n2020-01-13\\n</td>\n",
       "      <td>Dozens take action at JPMorgan healthcare conf...</td>\n",
       "      <td>JPMorgan Chase</td>\n",
       "      <td>United States</td>\n",
       "      <td>NaN</td>\n",
       "      <td>NaN</td>\n",
       "      <td>NaN</td>\n",
       "      <td>\\nSan Francisco –– A coalition of dozens of ac...</td>\n",
       "    </tr>\n",
       "  </tbody>\n",
       "</table>\n",
       "</div>"
      ],
      "text/plain": [
       "                                                meta  \\\n",
       "0                     \\nBy: Greenpeace\\n2020-01-21\\n   \n",
       "1  \\nBy: Milieudefensie & OECDWatch\\n2020-01-20\\n...   \n",
       "2      \\nBy: Rainforest Action Network\\n2020-01-13\\n   \n",
       "\n",
       "                                               title company_concerned  \\\n",
       "0  Davos financial players pump US$1.4 trillion i...  Bank of America    \n",
       "1  Friends of the Earth groups complaint against ...              ING    \n",
       "2  Dozens take action at JPMorgan healthcare conf...   JPMorgan Chase    \n",
       "\n",
       "  company_country_concerned dodgy_deals  \\\n",
       "0             United States         NaN   \n",
       "1               Netherlands     Socfin    \n",
       "2             United States         NaN   \n",
       "\n",
       "                                        dodgy_sector dodgy_country  \\\n",
       "0                                                NaN           NaN   \n",
       "1  agriculture - non-food crops | agriculture - p...    Luxembourg   \n",
       "2                                                NaN           NaN   \n",
       "\n",
       "                                             article  \n",
       "0  \\nJanuary 21 2020, Davos, Switzerland\\n\\n\\nBan...  \n",
       "1  \\nAMSTERDAM, 20 January 2020 - The Dutch Natio...  \n",
       "2  \\nSan Francisco –– A coalition of dozens of ac...  "
      ]
     },
     "execution_count": 4,
     "metadata": {},
     "output_type": "execute_result"
    }
   ],
   "source": [
    "df.head(3)"
   ]
  },
  {
   "cell_type": "code",
   "execution_count": 5,
   "metadata": {},
   "outputs": [],
   "source": [
    "#set cols name in vector\n",
    "cols_concerned = [\"meta\",\"title\",\"company_concerned\",\"company_country_concerned\",\n",
    "                  \"dodgy_deals\",\"dodgy_sector\",\"dodgy_country\",\"article\"]\n",
    "\n",
    "lang = \"english\"\n",
    "\n",
    "def autoCleaner(df,cols_concerned,lang):\n",
    "    \n",
    "    clean_freq = nct(language=lang) ## Instantiate our class with default parameters language='english'\n",
    "    \n",
    "    # Pass both in a pipeline & coluColumnTransformermtransformer\n",
    "    preprocess_pipe = ColumnTransformer([(\"cle\", clean_freq, cols_concerned)])\n",
    "\n",
    "    # transform data\n",
    "    dfclean = preprocess_pipe.fit_transform(df) \n",
    "\n",
    "    # that return a numpy array you can use it or back to DataFrame\n",
    "    dfclean = pd.DataFrame(dfclean)\n",
    "    \n",
    "    return dfclean"
   ]
  },
  {
   "cell_type": "code",
   "execution_count": 6,
   "metadata": {},
   "outputs": [
    {
     "name": "stderr",
     "output_type": "stream",
     "text": [
      "[nltk_data] Downloading package punkt to\n",
      "[nltk_data]     C:\\Users\\utilisateur\\AppData\\Roaming\\nltk_data...\n",
      "[nltk_data]   Package punkt is already up-to-date!\n",
      "[nltk_data] Downloading package wordnet to\n",
      "[nltk_data]     C:\\Users\\utilisateur\\AppData\\Roaming\\nltk_data...\n",
      "[nltk_data]   Package wordnet is already up-to-date!\n",
      "[nltk_data] Downloading package stopwords to\n",
      "[nltk_data]     C:\\Users\\utilisateur\\AppData\\Roaming\\nltk_data...\n",
      "[nltk_data]   Package stopwords is already up-to-date!\n"
     ]
    }
   ],
   "source": [
    "dfclean = autoCleaner(df, cols_concerned, lang)"
   ]
  },
  {
   "cell_type": "code",
   "execution_count": 7,
   "metadata": {
    "scrolled": false
   },
   "outputs": [
    {
     "data": {
      "text/html": [
       "<div>\n",
       "<style scoped>\n",
       "    .dataframe tbody tr th:only-of-type {\n",
       "        vertical-align: middle;\n",
       "    }\n",
       "\n",
       "    .dataframe tbody tr th {\n",
       "        vertical-align: top;\n",
       "    }\n",
       "\n",
       "    .dataframe thead th {\n",
       "        text-align: right;\n",
       "    }\n",
       "</style>\n",
       "<table border=\"1\" class=\"dataframe\">\n",
       "  <thead>\n",
       "    <tr style=\"text-align: right;\">\n",
       "      <th></th>\n",
       "      <th>0</th>\n",
       "      <th>1</th>\n",
       "      <th>2</th>\n",
       "      <th>3</th>\n",
       "      <th>4</th>\n",
       "      <th>5</th>\n",
       "      <th>6</th>\n",
       "      <th>7</th>\n",
       "    </tr>\n",
       "  </thead>\n",
       "  <tbody>\n",
       "    <tr>\n",
       "      <th>0</th>\n",
       "      <td>greenpeace 2020-01-21</td>\n",
       "      <td>davos financial player pump 1.4 trillion fossi...</td>\n",
       "      <td>bank america</td>\n",
       "      <td>united state</td>\n",
       "      <td>nan</td>\n",
       "      <td>nan</td>\n",
       "      <td>nan</td>\n",
       "      <td>january 2020 davos switzerland bank pension fu...</td>\n",
       "    </tr>\n",
       "    <tr>\n",
       "      <th>1</th>\n",
       "      <td>milieudefensie oecdwatch 2020-01-20 amsterdam</td>\n",
       "      <td>friend earth group complaint ing group admissi...</td>\n",
       "      <td>ing</td>\n",
       "      <td>netherlands</td>\n",
       "      <td>socfin</td>\n",
       "      <td>agriculture non-food crop agriculture palm oil</td>\n",
       "      <td>luxembourg</td>\n",
       "      <td>amsterdam january 2020 dutch national contact ...</td>\n",
       "    </tr>\n",
       "    <tr>\n",
       "      <th>2</th>\n",
       "      <td>rainforest action network 2020-01-13</td>\n",
       "      <td>dozen take action jpmorgan healthcare conference</td>\n",
       "      <td>jpmorgan chase</td>\n",
       "      <td>united state</td>\n",
       "      <td>nan</td>\n",
       "      <td>nan</td>\n",
       "      <td>nan</td>\n",
       "      <td>san francisco coalition dozen activist communi...</td>\n",
       "    </tr>\n",
       "  </tbody>\n",
       "</table>\n",
       "</div>"
      ],
      "text/plain": [
       "                                               0  \\\n",
       "0                          greenpeace 2020-01-21   \n",
       "1  milieudefensie oecdwatch 2020-01-20 amsterdam   \n",
       "2           rainforest action network 2020-01-13   \n",
       "\n",
       "                                                   1               2  \\\n",
       "0  davos financial player pump 1.4 trillion fossi...    bank america   \n",
       "1  friend earth group complaint ing group admissi...             ing   \n",
       "2   dozen take action jpmorgan healthcare conference  jpmorgan chase   \n",
       "\n",
       "              3       4                                               5  \\\n",
       "0  united state     nan                                             nan   \n",
       "1   netherlands  socfin  agriculture non-food crop agriculture palm oil   \n",
       "2  united state     nan                                             nan   \n",
       "\n",
       "            6                                                  7  \n",
       "0         nan  january 2020 davos switzerland bank pension fu...  \n",
       "1  luxembourg  amsterdam january 2020 dutch national contact ...  \n",
       "2         nan  san francisco coalition dozen activist communi...  "
      ]
     },
     "execution_count": 7,
     "metadata": {},
     "output_type": "execute_result"
    }
   ],
   "source": [
    "dfclean.head(3)"
   ]
  },
  {
   "cell_type": "markdown",
   "metadata": {},
   "source": [
    " --------------  We can do this with all language support by NLTK  ------------------"
   ]
  },
  {
   "cell_type": "code",
   "execution_count": 8,
   "metadata": {},
   "outputs": [],
   "source": [
    "phrase = \"Je suis content, car elle a eu le temps de boire un café ce matin avec moi\"\n",
    "\n",
    "sent = pd.DataFrame()\n",
    "sent.loc[0,'article'] = phrase\n",
    "\n",
    "#change my variable\n",
    "lang = 'french'\n",
    "cols_concerned = ['article']"
   ]
  },
  {
   "cell_type": "code",
   "execution_count": 9,
   "metadata": {},
   "outputs": [
    {
     "data": {
      "text/html": [
       "<div>\n",
       "<style scoped>\n",
       "    .dataframe tbody tr th:only-of-type {\n",
       "        vertical-align: middle;\n",
       "    }\n",
       "\n",
       "    .dataframe tbody tr th {\n",
       "        vertical-align: top;\n",
       "    }\n",
       "\n",
       "    .dataframe thead th {\n",
       "        text-align: right;\n",
       "    }\n",
       "</style>\n",
       "<table border=\"1\" class=\"dataframe\">\n",
       "  <thead>\n",
       "    <tr style=\"text-align: right;\">\n",
       "      <th></th>\n",
       "      <th>article</th>\n",
       "    </tr>\n",
       "  </thead>\n",
       "  <tbody>\n",
       "    <tr>\n",
       "      <th>0</th>\n",
       "      <td>Je suis content, car elle a eu le temps de boi...</td>\n",
       "    </tr>\n",
       "  </tbody>\n",
       "</table>\n",
       "</div>"
      ],
      "text/plain": [
       "                                             article\n",
       "0  Je suis content, car elle a eu le temps de boi..."
      ]
     },
     "execution_count": 9,
     "metadata": {},
     "output_type": "execute_result"
    }
   ],
   "source": [
    "sent"
   ]
  },
  {
   "cell_type": "code",
   "execution_count": 10,
   "metadata": {},
   "outputs": [
    {
     "name": "stderr",
     "output_type": "stream",
     "text": [
      "[nltk_data] Downloading package punkt to\n",
      "[nltk_data]     C:\\Users\\utilisateur\\AppData\\Roaming\\nltk_data...\n",
      "[nltk_data]   Package punkt is already up-to-date!\n",
      "[nltk_data] Downloading package wordnet to\n",
      "[nltk_data]     C:\\Users\\utilisateur\\AppData\\Roaming\\nltk_data...\n",
      "[nltk_data]   Package wordnet is already up-to-date!\n",
      "[nltk_data] Downloading package stopwords to\n",
      "[nltk_data]     C:\\Users\\utilisateur\\AppData\\Roaming\\nltk_data...\n",
      "[nltk_data]   Package stopwords is already up-to-date!\n"
     ]
    }
   ],
   "source": [
    "dfclean_fr = autoCleaner(sent, cols_concerned, lang)"
   ]
  },
  {
   "cell_type": "code",
   "execution_count": 11,
   "metadata": {},
   "outputs": [
    {
     "data": {
      "text/html": [
       "<div>\n",
       "<style scoped>\n",
       "    .dataframe tbody tr th:only-of-type {\n",
       "        vertical-align: middle;\n",
       "    }\n",
       "\n",
       "    .dataframe tbody tr th {\n",
       "        vertical-align: top;\n",
       "    }\n",
       "\n",
       "    .dataframe thead th {\n",
       "        text-align: right;\n",
       "    }\n",
       "</style>\n",
       "<table border=\"1\" class=\"dataframe\">\n",
       "  <thead>\n",
       "    <tr style=\"text-align: right;\">\n",
       "      <th></th>\n",
       "      <th>0</th>\n",
       "    </tr>\n",
       "  </thead>\n",
       "  <tbody>\n",
       "    <tr>\n",
       "      <th>0</th>\n",
       "      <td>content car temp boire café matin</td>\n",
       "    </tr>\n",
       "  </tbody>\n",
       "</table>\n",
       "</div>"
      ],
      "text/plain": [
       "                                   0\n",
       "0  content car temp boire café matin"
      ]
     },
     "execution_count": 11,
     "metadata": {},
     "output_type": "execute_result"
    }
   ],
   "source": [
    "dfclean_fr"
   ]
  },
  {
   "cell_type": "markdown",
   "metadata": {},
   "source": [
    "# Part 2 - Easly cleaned + TF / IDF "
   ]
  },
  {
   "cell_type": "markdown",
   "metadata": {},
   "source": [
    "We will apply same method's than before add the tf/idf step"
   ]
  },
  {
   "cell_type": "code",
   "execution_count": 12,
   "metadata": {},
   "outputs": [],
   "source": [
    "df = pd.read_csv(\"bt_articlev2.csv\")"
   ]
  },
  {
   "cell_type": "code",
   "execution_count": 13,
   "metadata": {},
   "outputs": [
    {
     "data": {
      "text/html": [
       "<div>\n",
       "<style scoped>\n",
       "    .dataframe tbody tr th:only-of-type {\n",
       "        vertical-align: middle;\n",
       "    }\n",
       "\n",
       "    .dataframe tbody tr th {\n",
       "        vertical-align: top;\n",
       "    }\n",
       "\n",
       "    .dataframe thead th {\n",
       "        text-align: right;\n",
       "    }\n",
       "</style>\n",
       "<table border=\"1\" class=\"dataframe\">\n",
       "  <thead>\n",
       "    <tr style=\"text-align: right;\">\n",
       "      <th></th>\n",
       "      <th>meta</th>\n",
       "      <th>title</th>\n",
       "      <th>company_concerned</th>\n",
       "      <th>company_country_concerned</th>\n",
       "      <th>dodgy_deals</th>\n",
       "      <th>dodgy_sector</th>\n",
       "      <th>dodgy_country</th>\n",
       "      <th>article</th>\n",
       "    </tr>\n",
       "  </thead>\n",
       "  <tbody>\n",
       "    <tr>\n",
       "      <th>0</th>\n",
       "      <td>\\nBy: Greenpeace\\n2020-01-21\\n</td>\n",
       "      <td>Davos financial players pump US$1.4 trillion i...</td>\n",
       "      <td>Bank of America</td>\n",
       "      <td>United States</td>\n",
       "      <td>NaN</td>\n",
       "      <td>NaN</td>\n",
       "      <td>NaN</td>\n",
       "      <td>\\nJanuary 21 2020, Davos, Switzerland\\n\\n\\nBan...</td>\n",
       "    </tr>\n",
       "    <tr>\n",
       "      <th>1</th>\n",
       "      <td>\\nBy: Milieudefensie &amp; OECDWatch\\n2020-01-20\\n...</td>\n",
       "      <td>Friends of the Earth groups complaint against ...</td>\n",
       "      <td>ING</td>\n",
       "      <td>Netherlands</td>\n",
       "      <td>Socfin</td>\n",
       "      <td>agriculture - non-food crops | agriculture - p...</td>\n",
       "      <td>Luxembourg</td>\n",
       "      <td>\\nAMSTERDAM, 20 January 2020 - The Dutch Natio...</td>\n",
       "    </tr>\n",
       "    <tr>\n",
       "      <th>2</th>\n",
       "      <td>\\nBy: Rainforest Action Network\\n2020-01-13\\n</td>\n",
       "      <td>Dozens take action at JPMorgan healthcare conf...</td>\n",
       "      <td>JPMorgan Chase</td>\n",
       "      <td>United States</td>\n",
       "      <td>NaN</td>\n",
       "      <td>NaN</td>\n",
       "      <td>NaN</td>\n",
       "      <td>\\nSan Francisco –– A coalition of dozens of ac...</td>\n",
       "    </tr>\n",
       "  </tbody>\n",
       "</table>\n",
       "</div>"
      ],
      "text/plain": [
       "                                                meta  \\\n",
       "0                     \\nBy: Greenpeace\\n2020-01-21\\n   \n",
       "1  \\nBy: Milieudefensie & OECDWatch\\n2020-01-20\\n...   \n",
       "2      \\nBy: Rainforest Action Network\\n2020-01-13\\n   \n",
       "\n",
       "                                               title company_concerned  \\\n",
       "0  Davos financial players pump US$1.4 trillion i...  Bank of America    \n",
       "1  Friends of the Earth groups complaint against ...              ING    \n",
       "2  Dozens take action at JPMorgan healthcare conf...   JPMorgan Chase    \n",
       "\n",
       "  company_country_concerned dodgy_deals  \\\n",
       "0             United States         NaN   \n",
       "1               Netherlands     Socfin    \n",
       "2             United States         NaN   \n",
       "\n",
       "                                        dodgy_sector dodgy_country  \\\n",
       "0                                                NaN           NaN   \n",
       "1  agriculture - non-food crops | agriculture - p...    Luxembourg   \n",
       "2                                                NaN           NaN   \n",
       "\n",
       "                                             article  \n",
       "0  \\nJanuary 21 2020, Davos, Switzerland\\n\\n\\nBan...  \n",
       "1  \\nAMSTERDAM, 20 January 2020 - The Dutch Natio...  \n",
       "2  \\nSan Francisco –– A coalition of dozens of ac...  "
      ]
     },
     "execution_count": 13,
     "metadata": {},
     "output_type": "execute_result"
    }
   ],
   "source": [
    "df.head(3)"
   ]
  },
  {
   "cell_type": "code",
   "execution_count": 14,
   "metadata": {},
   "outputs": [
    {
     "name": "stderr",
     "output_type": "stream",
     "text": [
      "[nltk_data] Downloading package punkt to\n",
      "[nltk_data]     C:\\Users\\utilisateur\\AppData\\Roaming\\nltk_data...\n",
      "[nltk_data]   Package punkt is already up-to-date!\n",
      "[nltk_data] Downloading package wordnet to\n",
      "[nltk_data]     C:\\Users\\utilisateur\\AppData\\Roaming\\nltk_data...\n",
      "[nltk_data]   Package wordnet is already up-to-date!\n",
      "[nltk_data] Downloading package stopwords to\n",
      "[nltk_data]     C:\\Users\\utilisateur\\AppData\\Roaming\\nltk_data...\n",
      "[nltk_data]   Package stopwords is already up-to-date!\n"
     ]
    }
   ],
   "source": [
    "col_vec = [\"article\"]\n",
    "lang = \"english\"           \n",
    "\n",
    "a_transformer = Pipeline([\n",
    "    ('cle', nct(language=lang)),\n",
    "    ('vec', nsp(language=lang))\n",
    "])\n",
    "\n",
    "preprocessor = ColumnTransformer([(\"veh\", a_transformer, col_vec )])\n",
    "           \n",
    "\n",
    "pipper = Pipeline([\n",
    "                    (\"pp\", preprocessor)\n",
    "                  ])\n",
    "\n",
    "arr_vec = pipper.fit_transform(df)"
   ]
  },
  {
   "cell_type": "code",
   "execution_count": 15,
   "metadata": {},
   "outputs": [
    {
     "data": {
      "text/plain": [
       "<964x23990 sparse matrix of type '<class 'numpy.float64'>'\n",
       "\twith 202991 stored elements in Compressed Sparse Row format>"
      ]
     },
     "execution_count": 15,
     "metadata": {},
     "output_type": "execute_result"
    }
   ],
   "source": [
    "arr_vec "
   ]
  },
  {
   "cell_type": "markdown",
   "metadata": {},
   "source": [
    "Now our data are ready to be clustered or other"
   ]
  },
  {
   "cell_type": "markdown",
   "metadata": {},
   "source": [
    "# ---------------------------------- The End --------------------------------------"
   ]
  }
 ],
 "metadata": {
  "hide_input": false,
  "kernelspec": {
   "display_name": "Python 3",
   "language": "python",
   "name": "python3"
  },
  "nbTranslate": {
   "displayLangs": [
    "*"
   ],
   "hotkey": "alt-t",
   "langInMainMenu": true,
   "sourceLang": "en",
   "targetLang": "fr",
   "useGoogleTranslate": true
  },
  "varInspector": {
   "cols": {
    "lenName": 16,
    "lenType": 16,
    "lenVar": 40
   },
   "kernels_config": {
    "python": {
     "delete_cmd_postfix": "",
     "delete_cmd_prefix": "del ",
     "library": "var_list.py",
     "varRefreshCmd": "print(var_dic_list())"
    },
    "r": {
     "delete_cmd_postfix": ") ",
     "delete_cmd_prefix": "rm(",
     "library": "var_list.r",
     "varRefreshCmd": "cat(var_dic_list()) "
    }
   },
   "types_to_exclude": [
    "module",
    "function",
    "builtin_function_or_method",
    "instance",
    "_Feature"
   ],
   "window_display": false
  }
 },
 "nbformat": 4,
 "nbformat_minor": 4
}
